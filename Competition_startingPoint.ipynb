{
  "nbformat": 4,
  "nbformat_minor": 0,
  "metadata": {
    "accelerator": "GPU",
    "colab": {
      "name": "Competition_startingPoint.ipynb",
      "provenance": [],
      "collapsed_sections": [],
      "toc_visible": true,
      "include_colab_link": true
    },
    "kernelspec": {
      "display_name": "Python 3",
      "language": "python",
      "name": "python3"
    },
    "language_info": {
      "codemirror_mode": {
        "name": "ipython",
        "version": 3
      },
      "file_extension": ".py",
      "mimetype": "text/x-python",
      "name": "python",
      "nbconvert_exporter": "python",
      "pygments_lexer": "ipython3",
      "version": "3.7.4"
    }
  },
  "cells": [
    {
      "cell_type": "markdown",
      "metadata": {
        "id": "view-in-github",
        "colab_type": "text"
      },
      "source": [
        "<a href=\"https://colab.research.google.com/github/animaviridis/evaluation_of_ai/blob/master/Competition_startingPoint.ipynb\" target=\"_parent\"><img src=\"https://colab.research.google.com/assets/colab-badge.svg\" alt=\"Open In Colab\"/></a>"
      ]
    },
    {
      "cell_type": "markdown",
      "metadata": {
        "colab_type": "text",
        "id": "sewCJ5bvlT3o"
      },
      "source": [
        "Data Mining and Visualisation 2019-2020\n",
        "Practical 6 - Time Series Classification & Competition"
      ]
    },
    {
      "cell_type": "code",
      "metadata": {
        "colab_type": "code",
        "id": "Gp61L87LgfKU",
        "outputId": "7f2da310-7579-4169-ca40-2c05dbf84531",
        "colab": {
          "base_uri": "https://localhost:8080/",
          "height": 34
        }
      },
      "source": [
        "import pandas as pd\n",
        "from sklearn import preprocessing\n",
        "from sklearn.model_selection import train_test_split\n",
        "#from sklearn import metrics\n",
        "from sklearn.metrics import confusion_matrix\n",
        "import matplotlib.pyplot as plt\n",
        "from sklearn.preprocessing import MinMaxScaler\n",
        "from keras.models import Sequential\n",
        "from keras.layers import Dense\n",
        "from numpy import mean\n",
        "import numpy as np\n",
        "from keras.wrappers.scikit_learn import KerasClassifier\n",
        "from sklearn.model_selection import StratifiedKFold\n",
        "from sklearn.model_selection import cross_val_score\n",
        "from keras.layers import Dropout, LeakyReLU, Conv2D, MaxPooling2D, Conv1D, MaxPooling1D, Flatten, GlobalAveragePooling1D, GlobalMaxPooling1D, BatchNormalization\n",
        "from keras.callbacks import ModelCheckpoint, ReduceLROnPlateau, EarlyStopping, LearningRateScheduler\n",
        "import math\n",
        "from keras.optimizers import  Adam, SGD, RMSprop\n",
        "from keras.regularizers import l1\n",
        "from keras import backend as K\n",
        "from keras.utils import multi_gpu_model\n",
        "from keras import backend as K\n",
        "import io\n",
        "from google.colab import files\n",
        "K.tensorflow_backend._get_available_gpus()"
      ],
      "execution_count": 4,
      "outputs": [
        {
          "output_type": "execute_result",
          "data": {
            "text/plain": [
              "['/job:localhost/replica:0/task:0/device:GPU:0']"
            ]
          },
          "metadata": {
            "tags": []
          },
          "execution_count": 4
        }
      ]
    },
    {
      "cell_type": "code",
      "metadata": {
        "colab_type": "code",
        "id": "2sZ5qzRmg3u6",
        "colab": {
          "resources": {
            "http://localhost:8080/nbextensions/google.colab/files.js": {
              "data": "Ly8gQ29weXJpZ2h0IDIwMTcgR29vZ2xlIExMQwovLwovLyBMaWNlbnNlZCB1bmRlciB0aGUgQXBhY2hlIExpY2Vuc2UsIFZlcnNpb24gMi4wICh0aGUgIkxpY2Vuc2UiKTsKLy8geW91IG1heSBub3QgdXNlIHRoaXMgZmlsZSBleGNlcHQgaW4gY29tcGxpYW5jZSB3aXRoIHRoZSBMaWNlbnNlLgovLyBZb3UgbWF5IG9idGFpbiBhIGNvcHkgb2YgdGhlIExpY2Vuc2UgYXQKLy8KLy8gICAgICBodHRwOi8vd3d3LmFwYWNoZS5vcmcvbGljZW5zZXMvTElDRU5TRS0yLjAKLy8KLy8gVW5sZXNzIHJlcXVpcmVkIGJ5IGFwcGxpY2FibGUgbGF3IG9yIGFncmVlZCB0byBpbiB3cml0aW5nLCBzb2Z0d2FyZQovLyBkaXN0cmlidXRlZCB1bmRlciB0aGUgTGljZW5zZSBpcyBkaXN0cmlidXRlZCBvbiBhbiAiQVMgSVMiIEJBU0lTLAovLyBXSVRIT1VUIFdBUlJBTlRJRVMgT1IgQ09ORElUSU9OUyBPRiBBTlkgS0lORCwgZWl0aGVyIGV4cHJlc3Mgb3IgaW1wbGllZC4KLy8gU2VlIHRoZSBMaWNlbnNlIGZvciB0aGUgc3BlY2lmaWMgbGFuZ3VhZ2UgZ292ZXJuaW5nIHBlcm1pc3Npb25zIGFuZAovLyBsaW1pdGF0aW9ucyB1bmRlciB0aGUgTGljZW5zZS4KCi8qKgogKiBAZmlsZW92ZXJ2aWV3IEhlbHBlcnMgZm9yIGdvb2dsZS5jb2xhYiBQeXRob24gbW9kdWxlLgogKi8KKGZ1bmN0aW9uKHNjb3BlKSB7CmZ1bmN0aW9uIHNwYW4odGV4dCwgc3R5bGVBdHRyaWJ1dGVzID0ge30pIHsKICBjb25zdCBlbGVtZW50ID0gZG9jdW1lbnQuY3JlYXRlRWxlbWVudCgnc3BhbicpOwogIGVsZW1lbnQudGV4dENvbnRlbnQgPSB0ZXh0OwogIGZvciAoY29uc3Qga2V5IG9mIE9iamVjdC5rZXlzKHN0eWxlQXR0cmlidXRlcykpIHsKICAgIGVsZW1lbnQuc3R5bGVba2V5XSA9IHN0eWxlQXR0cmlidXRlc1trZXldOwogIH0KICByZXR1cm4gZWxlbWVudDsKfQoKLy8gTWF4IG51bWJlciBvZiBieXRlcyB3aGljaCB3aWxsIGJlIHVwbG9hZGVkIGF0IGEgdGltZS4KY29uc3QgTUFYX1BBWUxPQURfU0laRSA9IDEwMCAqIDEwMjQ7Ci8vIE1heCBhbW91bnQgb2YgdGltZSB0byBibG9jayB3YWl0aW5nIGZvciB0aGUgdXNlci4KY29uc3QgRklMRV9DSEFOR0VfVElNRU9VVF9NUyA9IDMwICogMTAwMDsKCmZ1bmN0aW9uIF91cGxvYWRGaWxlcyhpbnB1dElkLCBvdXRwdXRJZCkgewogIGNvbnN0IHN0ZXBzID0gdXBsb2FkRmlsZXNTdGVwKGlucHV0SWQsIG91dHB1dElkKTsKICBjb25zdCBvdXRwdXRFbGVtZW50ID0gZG9jdW1lbnQuZ2V0RWxlbWVudEJ5SWQob3V0cHV0SWQpOwogIC8vIENhY2hlIHN0ZXBzIG9uIHRoZSBvdXRwdXRFbGVtZW50IHRvIG1ha2UgaXQgYXZhaWxhYmxlIGZvciB0aGUgbmV4dCBjYWxsCiAgLy8gdG8gdXBsb2FkRmlsZXNDb250aW51ZSBmcm9tIFB5dGhvbi4KICBvdXRwdXRFbGVtZW50LnN0ZXBzID0gc3RlcHM7CgogIHJldHVybiBfdXBsb2FkRmlsZXNDb250aW51ZShvdXRwdXRJZCk7Cn0KCi8vIFRoaXMgaXMgcm91Z2hseSBhbiBhc3luYyBnZW5lcmF0b3IgKG5vdCBzdXBwb3J0ZWQgaW4gdGhlIGJyb3dzZXIgeWV0KSwKLy8gd2hlcmUgdGhlcmUgYXJlIG11bHRpcGxlIGFzeW5jaHJvbm91cyBzdGVwcyBhbmQgdGhlIFB5dGhvbiBzaWRlIGlzIGdvaW5nCi8vIHRvIHBvbGwgZm9yIGNvbXBsZXRpb24gb2YgZWFjaCBzdGVwLgovLyBUaGlzIHVzZXMgYSBQcm9taXNlIHRvIGJsb2NrIHRoZSBweXRob24gc2lkZSBvbiBjb21wbGV0aW9uIG9mIGVhY2ggc3RlcCwKLy8gdGhlbiBwYXNzZXMgdGhlIHJlc3VsdCBvZiB0aGUgcHJldmlvdXMgc3RlcCBhcyB0aGUgaW5wdXQgdG8gdGhlIG5leHQgc3RlcC4KZnVuY3Rpb24gX3VwbG9hZEZpbGVzQ29udGludWUob3V0cHV0SWQpIHsKICBjb25zdCBvdXRwdXRFbGVtZW50ID0gZG9jdW1lbnQuZ2V0RWxlbWVudEJ5SWQob3V0cHV0SWQpOwogIGNvbnN0IHN0ZXBzID0gb3V0cHV0RWxlbWVudC5zdGVwczsKCiAgY29uc3QgbmV4dCA9IHN0ZXBzLm5leHQob3V0cHV0RWxlbWVudC5sYXN0UHJvbWlzZVZhbHVlKTsKICByZXR1cm4gUHJvbWlzZS5yZXNvbHZlKG5leHQudmFsdWUucHJvbWlzZSkudGhlbigodmFsdWUpID0+IHsKICAgIC8vIENhY2hlIHRoZSBsYXN0IHByb21pc2UgdmFsdWUgdG8gbWFrZSBpdCBhdmFpbGFibGUgdG8gdGhlIG5leHQKICAgIC8vIHN0ZXAgb2YgdGhlIGdlbmVyYXRvci4KICAgIG91dHB1dEVsZW1lbnQubGFzdFByb21pc2VWYWx1ZSA9IHZhbHVlOwogICAgcmV0dXJuIG5leHQudmFsdWUucmVzcG9uc2U7CiAgfSk7Cn0KCi8qKgogKiBHZW5lcmF0b3IgZnVuY3Rpb24gd2hpY2ggaXMgY2FsbGVkIGJldHdlZW4gZWFjaCBhc3luYyBzdGVwIG9mIHRoZSB1cGxvYWQKICogcHJvY2Vzcy4KICogQHBhcmFtIHtzdHJpbmd9IGlucHV0SWQgRWxlbWVudCBJRCBvZiB0aGUgaW5wdXQgZmlsZSBwaWNrZXIgZWxlbWVudC4KICogQHBhcmFtIHtzdHJpbmd9IG91dHB1dElkIEVsZW1lbnQgSUQgb2YgdGhlIG91dHB1dCBkaXNwbGF5LgogKiBAcmV0dXJuIHshSXRlcmFibGU8IU9iamVjdD59IEl0ZXJhYmxlIG9mIG5leHQgc3RlcHMuCiAqLwpmdW5jdGlvbiogdXBsb2FkRmlsZXNTdGVwKGlucHV0SWQsIG91dHB1dElkKSB7CiAgY29uc3QgaW5wdXRFbGVtZW50ID0gZG9jdW1lbnQuZ2V0RWxlbWVudEJ5SWQoaW5wdXRJZCk7CiAgaW5wdXRFbGVtZW50LmRpc2FibGVkID0gZmFsc2U7CgogIGNvbnN0IG91dHB1dEVsZW1lbnQgPSBkb2N1bWVudC5nZXRFbGVtZW50QnlJZChvdXRwdXRJZCk7CiAgb3V0cHV0RWxlbWVudC5pbm5lckhUTUwgPSAnJzsKCiAgY29uc3QgcGlja2VkUHJvbWlzZSA9IG5ldyBQcm9taXNlKChyZXNvbHZlKSA9PiB7CiAgICBpbnB1dEVsZW1lbnQuYWRkRXZlbnRMaXN0ZW5lcignY2hhbmdlJywgKGUpID0+IHsKICAgICAgcmVzb2x2ZShlLnRhcmdldC5maWxlcyk7CiAgICB9KTsKICB9KTsKCiAgY29uc3QgY2FuY2VsID0gZG9jdW1lbnQuY3JlYXRlRWxlbWVudCgnYnV0dG9uJyk7CiAgaW5wdXRFbGVtZW50LnBhcmVudEVsZW1lbnQuYXBwZW5kQ2hpbGQoY2FuY2VsKTsKICBjYW5jZWwudGV4dENvbnRlbnQgPSAnQ2FuY2VsIHVwbG9hZCc7CiAgY29uc3QgY2FuY2VsUHJvbWlzZSA9IG5ldyBQcm9taXNlKChyZXNvbHZlKSA9PiB7CiAgICBjYW5jZWwub25jbGljayA9ICgpID0+IHsKICAgICAgcmVzb2x2ZShudWxsKTsKICAgIH07CiAgfSk7CgogIC8vIENhbmNlbCB1cGxvYWQgaWYgdXNlciBoYXNuJ3QgcGlja2VkIGFueXRoaW5nIGluIHRpbWVvdXQuCiAgY29uc3QgdGltZW91dFByb21pc2UgPSBuZXcgUHJvbWlzZSgocmVzb2x2ZSkgPT4gewogICAgc2V0VGltZW91dCgoKSA9PiB7CiAgICAgIHJlc29sdmUobnVsbCk7CiAgICB9LCBGSUxFX0NIQU5HRV9USU1FT1VUX01TKTsKICB9KTsKCiAgLy8gV2FpdCBmb3IgdGhlIHVzZXIgdG8gcGljayB0aGUgZmlsZXMuCiAgY29uc3QgZmlsZXMgPSB5aWVsZCB7CiAgICBwcm9taXNlOiBQcm9taXNlLnJhY2UoW3BpY2tlZFByb21pc2UsIHRpbWVvdXRQcm9taXNlLCBjYW5jZWxQcm9taXNlXSksCiAgICByZXNwb25zZTogewogICAgICBhY3Rpb246ICdzdGFydGluZycsCiAgICB9CiAgfTsKCiAgaWYgKCFmaWxlcykgewogICAgcmV0dXJuIHsKICAgICAgcmVzcG9uc2U6IHsKICAgICAgICBhY3Rpb246ICdjb21wbGV0ZScsCiAgICAgIH0KICAgIH07CiAgfQoKICBjYW5jZWwucmVtb3ZlKCk7CgogIC8vIERpc2FibGUgdGhlIGlucHV0IGVsZW1lbnQgc2luY2UgZnVydGhlciBwaWNrcyBhcmUgbm90IGFsbG93ZWQuCiAgaW5wdXRFbGVtZW50LmRpc2FibGVkID0gdHJ1ZTsKCiAgZm9yIChjb25zdCBmaWxlIG9mIGZpbGVzKSB7CiAgICBjb25zdCBsaSA9IGRvY3VtZW50LmNyZWF0ZUVsZW1lbnQoJ2xpJyk7CiAgICBsaS5hcHBlbmQoc3BhbihmaWxlLm5hbWUsIHtmb250V2VpZ2h0OiAnYm9sZCd9KSk7CiAgICBsaS5hcHBlbmQoc3BhbigKICAgICAgICBgKCR7ZmlsZS50eXBlIHx8ICduL2EnfSkgLSAke2ZpbGUuc2l6ZX0gYnl0ZXMsIGAgKwogICAgICAgIGBsYXN0IG1vZGlmaWVkOiAkewogICAgICAgICAgICBmaWxlLmxhc3RNb2RpZmllZERhdGUgPyBmaWxlLmxhc3RNb2RpZmllZERhdGUudG9Mb2NhbGVEYXRlU3RyaW5nKCkgOgogICAgICAgICAgICAgICAgICAgICAgICAgICAgICAgICAgICAnbi9hJ30gLSBgKSk7CiAgICBjb25zdCBwZXJjZW50ID0gc3BhbignMCUgZG9uZScpOwogICAgbGkuYXBwZW5kQ2hpbGQocGVyY2VudCk7CgogICAgb3V0cHV0RWxlbWVudC5hcHBlbmRDaGlsZChsaSk7CgogICAgY29uc3QgZmlsZURhdGFQcm9taXNlID0gbmV3IFByb21pc2UoKHJlc29sdmUpID0+IHsKICAgICAgY29uc3QgcmVhZGVyID0gbmV3IEZpbGVSZWFkZXIoKTsKICAgICAgcmVhZGVyLm9ubG9hZCA9IChlKSA9PiB7CiAgICAgICAgcmVzb2x2ZShlLnRhcmdldC5yZXN1bHQpOwogICAgICB9OwogICAgICByZWFkZXIucmVhZEFzQXJyYXlCdWZmZXIoZmlsZSk7CiAgICB9KTsKICAgIC8vIFdhaXQgZm9yIHRoZSBkYXRhIHRvIGJlIHJlYWR5LgogICAgbGV0IGZpbGVEYXRhID0geWllbGQgewogICAgICBwcm9taXNlOiBmaWxlRGF0YVByb21pc2UsCiAgICAgIHJlc3BvbnNlOiB7CiAgICAgICAgYWN0aW9uOiAnY29udGludWUnLAogICAgICB9CiAgICB9OwoKICAgIC8vIFVzZSBhIGNodW5rZWQgc2VuZGluZyB0byBhdm9pZCBtZXNzYWdlIHNpemUgbGltaXRzLiBTZWUgYi82MjExNTY2MC4KICAgIGxldCBwb3NpdGlvbiA9IDA7CiAgICB3aGlsZSAocG9zaXRpb24gPCBmaWxlRGF0YS5ieXRlTGVuZ3RoKSB7CiAgICAgIGNvbnN0IGxlbmd0aCA9IE1hdGgubWluKGZpbGVEYXRhLmJ5dGVMZW5ndGggLSBwb3NpdGlvbiwgTUFYX1BBWUxPQURfU0laRSk7CiAgICAgIGNvbnN0IGNodW5rID0gbmV3IFVpbnQ4QXJyYXkoZmlsZURhdGEsIHBvc2l0aW9uLCBsZW5ndGgpOwogICAgICBwb3NpdGlvbiArPSBsZW5ndGg7CgogICAgICBjb25zdCBiYXNlNjQgPSBidG9hKFN0cmluZy5mcm9tQ2hhckNvZGUuYXBwbHkobnVsbCwgY2h1bmspKTsKICAgICAgeWllbGQgewogICAgICAgIHJlc3BvbnNlOiB7CiAgICAgICAgICBhY3Rpb246ICdhcHBlbmQnLAogICAgICAgICAgZmlsZTogZmlsZS5uYW1lLAogICAgICAgICAgZGF0YTogYmFzZTY0LAogICAgICAgIH0sCiAgICAgIH07CiAgICAgIHBlcmNlbnQudGV4dENvbnRlbnQgPQogICAgICAgICAgYCR7TWF0aC5yb3VuZCgocG9zaXRpb24gLyBmaWxlRGF0YS5ieXRlTGVuZ3RoKSAqIDEwMCl9JSBkb25lYDsKICAgIH0KICB9CgogIC8vIEFsbCBkb25lLgogIHlpZWxkIHsKICAgIHJlc3BvbnNlOiB7CiAgICAgIGFjdGlvbjogJ2NvbXBsZXRlJywKICAgIH0KICB9Owp9CgpzY29wZS5nb29nbGUgPSBzY29wZS5nb29nbGUgfHwge307CnNjb3BlLmdvb2dsZS5jb2xhYiA9IHNjb3BlLmdvb2dsZS5jb2xhYiB8fCB7fTsKc2NvcGUuZ29vZ2xlLmNvbGFiLl9maWxlcyA9IHsKICBfdXBsb2FkRmlsZXMsCiAgX3VwbG9hZEZpbGVzQ29udGludWUsCn07Cn0pKHNlbGYpOwo=",
              "ok": true,
              "headers": [
                [
                  "content-type",
                  "application/javascript"
                ]
              ],
              "status": 200,
              "status_text": ""
            }
          },
          "base_uri": "https://localhost:8080/",
          "height": 74
        },
        "outputId": "87881fde-b4f4-468b-bdda-7678bc7f6410"
      },
      "source": [
        "path = '/content'\n",
        "# df = pd.read_csv('all_data_35predicitors_197k_rain_395k_nonrain.txt')\n",
        "df = pd.read_csv(io.StringIO(files.upload()['all_data_35predicitors_197k_rain_395k_nonrain.txt'].decode('utf-8')))\n"
      ],
      "execution_count": 5,
      "outputs": [
        {
          "output_type": "display_data",
          "data": {
            "text/html": [
              "\n",
              "     <input type=\"file\" id=\"files-571e9af8-706c-44f5-bddb-2948398ce554\" name=\"files[]\" multiple disabled />\n",
              "     <output id=\"result-571e9af8-706c-44f5-bddb-2948398ce554\">\n",
              "      Upload widget is only available when the cell has been executed in the\n",
              "      current browser session. Please rerun this cell to enable.\n",
              "      </output>\n",
              "      <script src=\"/nbextensions/google.colab/files.js\"></script> "
            ],
            "text/plain": [
              "<IPython.core.display.HTML object>"
            ]
          },
          "metadata": {
            "tags": []
          }
        },
        {
          "output_type": "stream",
          "text": [
            "Saving all_data_35predicitors_197k_rain_395k_nonrain.txt to all_data_35predicitors_197k_rain_395k_nonrain.txt\n"
          ],
          "name": "stdout"
        }
      ]
    },
    {
      "cell_type": "code",
      "metadata": {
        "id": "A3CP8Scvn89k",
        "colab_type": "code",
        "colab": {
          "base_uri": "https://localhost:8080/",
          "height": 34
        },
        "outputId": "67d00bbb-0f63-4006-cac7-821dda2f78e4"
      },
      "source": [
        "# Check that no nans or missing data\n",
        "df.isnull().sum().sum()\n"
      ],
      "execution_count": 9,
      "outputs": [
        {
          "output_type": "execute_result",
          "data": {
            "text/plain": [
              "0"
            ]
          },
          "metadata": {
            "tags": []
          },
          "execution_count": 9
        }
      ]
    },
    {
      "cell_type": "code",
      "metadata": {
        "id": "Sf99gOReoBXd",
        "colab_type": "code",
        "colab": {}
      },
      "source": [
        "# Change rain or no rain into True or False\n",
        "df.PRECIP = df.PRECIP.astype(bool)\n",
        "\n",
        "# Define preprocessor to change string to number labels\n",
        "le = preprocessing.LabelEncoder()\n",
        "\n",
        "# Change true/false to 1 or 0\n",
        "df.PRECIP = le.fit_transform(df.PRECIP)"
      ],
      "execution_count": 0,
      "outputs": []
    },
    {
      "cell_type": "code",
      "metadata": {
        "colab_type": "code",
        "id": "wqO85BFHpqBE",
        "outputId": "19934bf0-a206-48f0-c8c6-9060df22fb32",
        "colab": {
          "base_uri": "https://localhost:8080/",
          "height": 218
        }
      },
      "source": [
        "df.PRECIP"
      ],
      "execution_count": 14,
      "outputs": [
        {
          "output_type": "execute_result",
          "data": {
            "text/plain": [
              "0         1\n",
              "1         1\n",
              "2         1\n",
              "3         1\n",
              "4         1\n",
              "         ..\n",
              "593869    0\n",
              "593870    0\n",
              "593871    0\n",
              "593872    0\n",
              "593873    0\n",
              "Name: PRECIP, Length: 593874, dtype: int64"
            ]
          },
          "metadata": {
            "tags": []
          },
          "execution_count": 14
        }
      ]
    },
    {
      "cell_type": "code",
      "metadata": {
        "id": "CGQFZk3qoVg6",
        "colab_type": "code",
        "colab": {
          "base_uri": "https://localhost:8080/",
          "height": 34
        },
        "outputId": "f4e0455c-487b-49b3-9b30-a05ae0e1bed9"
      },
      "source": [
        "# See how many 1s and 0s there are in the data\n",
        "label_distribution = {val: (df.PRECIP==val).sum() for val in set(df.PRECIP)}\n",
        "label_distribution"
      ],
      "execution_count": 10,
      "outputs": [
        {
          "output_type": "execute_result",
          "data": {
            "text/plain": [
              "{0: 395916, 1: 197958}"
            ]
          },
          "metadata": {
            "tags": []
          },
          "execution_count": 10
        }
      ]
    },
    {
      "cell_type": "code",
      "metadata": {
        "id": "IIO4yM_aooO0",
        "colab_type": "code",
        "colab": {
          "base_uri": "https://localhost:8080/",
          "height": 34
        },
        "outputId": "8d35add1-c0f0-4416-97f7-0d4e95288a96"
      },
      "source": [
        "# percentages\n",
        "{val: np.around(100*num/df.shape[0], 2) for val, num in label_distribution.items()}"
      ],
      "execution_count": 11,
      "outputs": [
        {
          "output_type": "execute_result",
          "data": {
            "text/plain": [
              "{0: 66.67, 1: 33.33}"
            ]
          },
          "metadata": {
            "tags": []
          },
          "execution_count": 11
        }
      ]
    },
    {
      "cell_type": "code",
      "metadata": {
        "colab_type": "code",
        "id": "0-07iHz2gpcG",
        "outputId": "40aabe33-967f-4d87-ad56-aa950b494ebc",
        "colab": {
          "base_uri": "https://localhost:8080/",
          "height": 67
        }
      },
      "source": [
        "# Create datetime for reference and then remove from dataframe\n",
        "datetime = df.DATE_TIME\n",
        "df.drop(['DATE_TIME'], axis=1, inplace=True)\n",
        "\n",
        "# Remove site-id\n",
        "df.drop(['SITE_ID'], axis=1, inplace=True)\n",
        "\n",
        "# Prepare data\n",
        "X = df.drop('PRECIP', axis=1)  # Predictors\n",
        "y = df.PRECIP  # Labels\n",
        "\n",
        "# Normalize predictors\n",
        "scaler = MinMaxScaler(feature_range=(0, 1))\n",
        "X = scaler.fit_transform(X)\n",
        "\n",
        "# Define test and train set\n",
        "X_train, X_test, y_train, y_test = train_test_split(X, y, test_size=0.20, random_state=1,shuffle=True)\n",
        "y_test.value_counts()  # Check roughly equal amounts of rain or no rain in the test data\n"
      ],
      "execution_count": 12,
      "outputs": [
        {
          "output_type": "execute_result",
          "data": {
            "text/plain": [
              "0    79363\n",
              "1    39412\n",
              "Name: PRECIP, dtype: int64"
            ]
          },
          "metadata": {
            "tags": []
          },
          "execution_count": 12
        }
      ]
    },
    {
      "cell_type": "code",
      "metadata": {
        "id": "IfD_ex5iOJE6",
        "colab_type": "code",
        "colab": {}
      },
      "source": [
        "#datax = X_train.reshape(4410,1,52,1)\n",
        "#datay = y_train.reshape()\n",
        "X_train = np.reshape(X_train,(X_train.shape[0],X_train.shape[1],1))\n",
        "X_test = np.reshape(X_test,(X_test.shape[0],X_test.shape[1],1))\n",
        "y_train = np.array(y_train).reshape(X_train.shape[0],1)\n"
      ],
      "execution_count": 0,
      "outputs": []
    },
    {
      "cell_type": "code",
      "metadata": {
        "id": "_N0hAXc_OTqe",
        "colab_type": "code",
        "colab": {}
      },
      "source": [
        "#input_shape=len(df.columns)-1\n",
        "K.clear_session()"
      ],
      "execution_count": 0,
      "outputs": []
    },
    {
      "cell_type": "code",
      "metadata": {
        "colab_type": "code",
        "id": "5MKRQRsNp6yM",
        "outputId": "89aa7814-8bbc-4aae-edba-b5892cd84c50",
        "colab": {
          "base_uri": "https://localhost:8080/",
          "height": 34
        }
      },
      "source": [
        "y[300000]"
      ],
      "execution_count": 19,
      "outputs": [
        {
          "output_type": "execute_result",
          "data": {
            "text/plain": [
              "0"
            ]
          },
          "metadata": {
            "tags": []
          },
          "execution_count": 19
        }
      ]
    },
    {
      "cell_type": "code",
      "metadata": {
        "colab_type": "code",
        "id": "ZKIp2MMGZfVD",
        "outputId": "1e4a4d23-9f45-4d36-c703-3866b4eb6ac2",
        "colab": {
          "base_uri": "https://localhost:8080/",
          "height": 1000
        }
      },
      "source": [
        "model = Sequential()\n",
        "\n",
        "model.add(Conv1D(filters=32, padding='same', kernel_initializer='glorot_normal',input_shape=(X_train.shape[1],1), kernel_size=5))#filters= 16\n",
        "model.add(LeakyReLU(alpha=0.3))\n",
        "model.add(BatchNormalization(momentum=0.99, epsilon=0.001,scale=False))\n",
        "#model.add(MaxPooling1D())\n",
        "model.add(Conv1D(filters=64,  padding='same',kernel_initializer='glorot_normal', kernel_size=9))#filters = 32\n",
        "model.add(LeakyReLU(alpha=0.3))\n",
        "model.add(BatchNormalization(momentum=0.99, epsilon=0.001,scale=False))\n",
        "model.add(MaxPooling1D())\n",
        "model.add(Conv1D(filters=128,  padding='same',kernel_initializer='glorot_normal', kernel_size=9))\n",
        "model.add(LeakyReLU(alpha=0.3))\n",
        "model.add(BatchNormalization(momentum=0.99, epsilon=0.001, scale=False))\n",
        "model.add(Dropout(0.4))\n",
        "#model.add(Conv1D(filters=128, kernel_size=5,activation='relu'))\n",
        "#model.add(BatchNormalization(momentum=0.99, epsilon=0.001, scale=False))\n",
        "#model.add(Dropout(0.4))\n",
        "model.add(Conv1D(filters=196,  padding='same',kernel_initializer='glorot_normal', kernel_size=9))\n",
        "model.add(LeakyReLU(alpha=0.3))\n",
        "model.add(BatchNormalization(momentum=0.99, epsilon=0.001, scale=False))\n",
        "model.add(Dropout(0.4))\n",
        "model.add(MaxPooling1D())\n",
        "model.add(Conv1D(filters=196, padding='same',kernel_initializer='glorot_normal', kernel_size=9))\n",
        "model.add(LeakyReLU(alpha=0.3))\n",
        "model.add(BatchNormalization(momentum=0.99, epsilon=0.001,  scale=False))\n",
        "model.add(Conv1D(filters=196, padding='same',kernel_initializer='glorot_normal', kernel_size=9))\n",
        "model.add(LeakyReLU(alpha=0.3))\n",
        "model.add(BatchNormalization(momentum=0.99, epsilon=0.001,  scale=False))\n",
        "model.add(Dropout(0.4))\n",
        "model.add(Conv1D(filters=196, padding='same',kernel_initializer='glorot_normal', kernel_size=9))\n",
        "model.add(LeakyReLU(alpha=0.3))\n",
        "model.add(BatchNormalization(momentum=0.99, epsilon=0.001, scale=False))\n",
        "model.add(Dropout(0.4))\n",
        "model.add(MaxPooling1D())\n",
        "\n",
        "model.add(Conv1D(filters=256, padding='same',kernel_initializer='glorot_normal', kernel_size=9))\n",
        "model.add(LeakyReLU(alpha=0.3))\n",
        "model.add(BatchNormalization(momentum=0.99, epsilon=0.001, scale=False))\n",
        "model.add(Dropout(0.4))\n",
        "model.add(Conv1D(filters=256, padding='same',kernel_initializer='glorot_normal', kernel_size=9))\n",
        "model.add(LeakyReLU(alpha=0.3))\n",
        "model.add(BatchNormalization(momentum=0.99, epsilon=0.001, scale=False))\n",
        "model.add(Conv1D(filters=256, padding='same',kernel_initializer='glorot_normal', kernel_size=9))\n",
        "model.add(LeakyReLU(alpha=0.3))\n",
        "model.add(BatchNormalization(momentum=0.99, epsilon=0.001, scale=False))\n",
        "#model.add(Dropout(0.4))\n",
        "#model.add(Conv1D(filters=196, kernel_size=5, activation='relu'))\n",
        "#model.add(BatchNormalization(momentum=0.99, epsilon=0.001, scale=False))\n",
        "#model.add(Dropout(0.4))\n",
        "model.add(Flatten())\n",
        "\n",
        "#model.add(GlobalAveragePooling1D())\n",
        "#model.add(GlobalMaxPooling1D())\n",
        "\n",
        "model.add(Dense(1024, kernel_initializer='glorot_normal'))\n",
        "model.add(LeakyReLU(alpha=0.3))\n",
        "model.add(Dropout(0.3))\n",
        "model.add(Dense(512, kernel_initializer='glorot_normal'))\n",
        "model.add(LeakyReLU(alpha=0.3))\n",
        "model.add(Dropout(0.3))\n",
        "\n",
        "model.add(Dense(1, kernel_initializer='glorot_normal', activation='sigmoid'))\n",
        "\n",
        "#Set optimizer\n",
        "sgd = SGD(lr=0.001, momentum=0.9, decay=0.1, nesterov=True)\n",
        "#adam = Adam(lr=0.001, beta_1=0.9, beta_2=0.99)\n",
        "#rmsprop = RMSprop(lr=0.001, rho=0.9, epsilon=None, decay=0.0)\n",
        "#Compile\n",
        "model.compile(loss='binary_crossentropy', optimizer=sgd, metrics=['accuracy'])\n",
        "\n",
        "\n",
        "#'''Define callbacks'''\n",
        "\n",
        "#reduce_lr = ReduceLROnPlateau(monitor='val_loss', factor=0.2,\n",
        "                             # patience=1, min_lr=0.001)\n",
        "#Do exponential reduction of lr, start at 0.5\n",
        "#\n",
        "#earlyStop=EarlyStopping(monitor='acc', min_delta=0.01, patience=50, verbose=1,\n",
        "                               #mode='auto', baseline=None, restore_best_weights=True)\n",
        "##Learning rate exponential\n",
        "#def exp_decay(epoch):\n",
        "  # initial_lrate = 0.5\n",
        "   #k = 0.1\n",
        "  # lrate = initial_lrate * math.exp(-k*epoch)\n",
        "  # return lrate\n",
        "#lrate = LearningRateScheduler(exp_decay)\n",
        "\n",
        "\n",
        "#callbacks_list = [earlyStop] # callbacks=callbacks_list\n",
        "filepath=\"weights-improvement-{epoch:02d}-{val_acc:.2f}.hdf5\"\n",
        "#Fit model\n",
        "checkpoint = ModelCheckpoint(filepath, save_best_only=True,  save_weights_only=False, verbose=1, mode='min', period=1)\n",
        "callbacks_list = [checkpoint]\n",
        "mod=model.fit(X_train, y_train, validation_split=0.20, epochs=50, batch_size=512,verbose=1, callbacks=callbacks_list)\n",
        "\n",
        " #Make predictions\n",
        "y_pred=model.predict(X_test)\n",
        "\n",
        "#Convert predictions to usable series with correct index\n",
        "y_pred=[float(round(x[0])) for x in y_pred]#round probabilites\n",
        "y_pred=pd.Series(y_pred)#Change to series\n",
        "new_index=y_pred.index.values #Take index from known test data\n",
        "y_test.index=new_index #Apply new index to predictions\n",
        "accuracy = mean(y_pred == y_test)\n",
        "print(\"Prediction Accuracy: %.2f%%\" % (accuracy*100))\n",
        "\n",
        "\n",
        "'''Check and plot history'''\n",
        "print(mod.history.keys())\n",
        "\n",
        "\n",
        "plt.plot(mod.history['acc'])\n",
        "plt.plot(mod.history['val_acc'])\n",
        "plt.title('model accuracy')\n",
        "plt.ylabel('accuracy')\n",
        "plt.xlabel('epoch')\n",
        "plt.legend(['train', 'test'], loc='upper left')\n",
        "plt.show()\n",
        "\n",
        "\n",
        "# summarize history for loss\n",
        "plt.plot(mod.history['loss'])\n",
        "plt.plot(mod.history['val_loss'])\n",
        "plt.title('model loss')\n",
        "plt.ylabel('loss')\n",
        "plt.xlabel('epoch')\n",
        "plt.legend(['train', 'test'], loc='upper left')\n",
        "plt.show()\n",
        "\n",
        "\n",
        "\n",
        "#'''Evaluating across all data with k fold'''\n",
        "#seed=9\n",
        "#estimator = KerasClassifier(build_fn=model, epochs=10, batch_size=5, verbose=0)\n",
        "#kfold = StratifiedKFold(n_splits=10, shuffle=True, random_state=seed)\n",
        "#results = cross_val_score(estimator, X, y, cv=kfold)\n",
        "#print(\"Results: %.2f%% (%.2f%%)\" % (results.mean()*100, results.std()*100))\n",
        "\n",
        "\n",
        "'''Plot confusion matrix'''\n",
        "cm=confusion_matrix(y_test, y_pred)\n",
        "plt.clf()\n",
        "plt.imshow(cm, interpolation='nearest', cmap=plt.cm.Wistia)\n",
        "classNames = ['0','1'] #Check class names\n",
        "plt.title('Rain or non-rain Confusion Matrix - Test Data')\n",
        "plt.ylabel('True label')\n",
        "plt.xlabel('Predicted label')\n",
        "tick_marks = np.arange(len(classNames))\n",
        "plt.xticks(tick_marks, classNames, rotation=45)\n",
        "plt.yticks(tick_marks, classNames)\n",
        "s = [['TN','FP'], ['FN', 'TP']]\n",
        "for i in range(2):\n",
        "    for j in range(2):\n",
        "        plt.text(j,i, str(s[i][j])+\" = \"+str(cm[i][j]))\n",
        "xmin, xmax = plt.xlim()\n",
        "ymin, ymax = plt.ylim()\n",
        "plt.annotate(' Accuracy = {}'.format(accuracy), size=9,\n",
        "             xy=(xmin,ymax), xytext=(10, -35), textcoords='offset points')\n",
        "plt.show()\n"
      ],
      "execution_count": 31,
      "outputs": [
        {
          "output_type": "stream",
          "text": [
            "Train on 380079 samples, validate on 95020 samples\n",
            "Epoch 1/50\n",
            "380079/380079 [==============================] - 52s 136us/step - loss: 0.6704 - acc: 0.6463 - val_loss: 0.5785 - val_acc: 0.6868\n",
            "\n",
            "Epoch 00001: val_loss improved from inf to 0.57852, saving model to weights-improvement-01-0.69.hdf5\n",
            "Epoch 2/50\n",
            "380079/380079 [==============================] - 49s 129us/step - loss: 0.6478 - acc: 0.6613 - val_loss: 0.5682 - val_acc: 0.6937\n",
            "\n",
            "Epoch 00002: val_loss improved from 0.57852 to 0.56816, saving model to weights-improvement-02-0.69.hdf5\n",
            "Epoch 3/50\n",
            "380079/380079 [==============================] - 49s 128us/step - loss: 0.6391 - acc: 0.6673 - val_loss: 0.5650 - val_acc: 0.6975\n",
            "\n",
            "Epoch 00003: val_loss improved from 0.56816 to 0.56498, saving model to weights-improvement-03-0.70.hdf5\n",
            "Epoch 4/50\n",
            "380079/380079 [==============================] - 49s 128us/step - loss: 0.6352 - acc: 0.6693 - val_loss: 0.5612 - val_acc: 0.7011\n",
            "\n",
            "Epoch 00004: val_loss improved from 0.56498 to 0.56121, saving model to weights-improvement-04-0.70.hdf5\n",
            "Epoch 5/50\n",
            "380079/380079 [==============================] - 49s 128us/step - loss: 0.6299 - acc: 0.6724 - val_loss: 0.5592 - val_acc: 0.7033\n",
            "\n",
            "Epoch 00005: val_loss improved from 0.56121 to 0.55921, saving model to weights-improvement-05-0.70.hdf5\n",
            "Epoch 6/50\n",
            "380079/380079 [==============================] - 49s 128us/step - loss: 0.6287 - acc: 0.6742 - val_loss: 0.5566 - val_acc: 0.7058\n",
            "\n",
            "Epoch 00006: val_loss improved from 0.55921 to 0.55658, saving model to weights-improvement-06-0.71.hdf5\n",
            "Epoch 7/50\n",
            "380079/380079 [==============================] - 48s 127us/step - loss: 0.6257 - acc: 0.6762 - val_loss: 0.5551 - val_acc: 0.7075\n",
            "\n",
            "Epoch 00007: val_loss improved from 0.55658 to 0.55512, saving model to weights-improvement-07-0.71.hdf5\n",
            "Epoch 8/50\n",
            "380079/380079 [==============================] - 48s 127us/step - loss: 0.6244 - acc: 0.6770 - val_loss: 0.5538 - val_acc: 0.7091\n",
            "\n",
            "Epoch 00008: val_loss improved from 0.55512 to 0.55383, saving model to weights-improvement-08-0.71.hdf5\n",
            "Epoch 9/50\n",
            "380079/380079 [==============================] - 48s 128us/step - loss: 0.6226 - acc: 0.6790 - val_loss: 0.5529 - val_acc: 0.7104\n",
            "\n",
            "Epoch 00009: val_loss improved from 0.55383 to 0.55286, saving model to weights-improvement-09-0.71.hdf5\n",
            "Epoch 10/50\n",
            "380079/380079 [==============================] - 49s 128us/step - loss: 0.6201 - acc: 0.6807 - val_loss: 0.5518 - val_acc: 0.7116\n",
            "\n",
            "Epoch 00010: val_loss improved from 0.55286 to 0.55177, saving model to weights-improvement-10-0.71.hdf5\n",
            "Epoch 11/50\n",
            "380079/380079 [==============================] - 48s 127us/step - loss: 0.6203 - acc: 0.6809 - val_loss: 0.5511 - val_acc: 0.7125\n",
            "\n",
            "Epoch 00011: val_loss improved from 0.55177 to 0.55105, saving model to weights-improvement-11-0.71.hdf5\n",
            "Epoch 12/50\n",
            "380079/380079 [==============================] - 49s 128us/step - loss: 0.6180 - acc: 0.6819 - val_loss: 0.5504 - val_acc: 0.7133\n",
            "\n",
            "Epoch 00012: val_loss improved from 0.55105 to 0.55044, saving model to weights-improvement-12-0.71.hdf5\n",
            "Epoch 13/50\n",
            "380079/380079 [==============================] - 49s 128us/step - loss: 0.6183 - acc: 0.6814 - val_loss: 0.5496 - val_acc: 0.7143\n",
            "\n",
            "Epoch 00013: val_loss improved from 0.55044 to 0.54961, saving model to weights-improvement-13-0.71.hdf5\n",
            "Epoch 14/50\n",
            "380079/380079 [==============================] - 48s 127us/step - loss: 0.6172 - acc: 0.6830 - val_loss: 0.5486 - val_acc: 0.7151\n",
            "\n",
            "Epoch 00014: val_loss improved from 0.54961 to 0.54858, saving model to weights-improvement-14-0.72.hdf5\n",
            "Epoch 15/50\n",
            "380079/380079 [==============================] - 49s 130us/step - loss: 0.6155 - acc: 0.6845 - val_loss: 0.5478 - val_acc: 0.7160\n",
            "\n",
            "Epoch 00015: val_loss improved from 0.54858 to 0.54783, saving model to weights-improvement-15-0.72.hdf5\n",
            "Epoch 16/50\n",
            "380079/380079 [==============================] - 49s 129us/step - loss: 0.6148 - acc: 0.6835 - val_loss: 0.5476 - val_acc: 0.7162\n",
            "\n",
            "Epoch 00016: val_loss improved from 0.54783 to 0.54757, saving model to weights-improvement-16-0.72.hdf5\n",
            "Epoch 17/50\n",
            "380079/380079 [==============================] - 48s 128us/step - loss: 0.6149 - acc: 0.6838 - val_loss: 0.5463 - val_acc: 0.7172\n",
            "\n",
            "Epoch 00017: val_loss improved from 0.54757 to 0.54630, saving model to weights-improvement-17-0.72.hdf5\n",
            "Epoch 18/50\n",
            "380079/380079 [==============================] - 49s 128us/step - loss: 0.6139 - acc: 0.6845 - val_loss: 0.5464 - val_acc: 0.7176\n",
            "\n",
            "Epoch 00018: val_loss did not improve from 0.54630\n",
            "Epoch 19/50\n",
            "380079/380079 [==============================] - 48s 127us/step - loss: 0.6121 - acc: 0.6864 - val_loss: 0.5460 - val_acc: 0.7181\n",
            "\n",
            "Epoch 00019: val_loss improved from 0.54630 to 0.54598, saving model to weights-improvement-19-0.72.hdf5\n",
            "Epoch 20/50\n",
            "380079/380079 [==============================] - 49s 128us/step - loss: 0.6122 - acc: 0.6861 - val_loss: 0.5459 - val_acc: 0.7184\n",
            "\n",
            "Epoch 00020: val_loss improved from 0.54598 to 0.54589, saving model to weights-improvement-20-0.72.hdf5\n",
            "Epoch 21/50\n",
            "380079/380079 [==============================] - 49s 129us/step - loss: 0.6108 - acc: 0.6865 - val_loss: 0.5451 - val_acc: 0.7191\n",
            "\n",
            "Epoch 00021: val_loss improved from 0.54589 to 0.54510, saving model to weights-improvement-21-0.72.hdf5\n",
            "Epoch 22/50\n",
            "380079/380079 [==============================] - 48s 127us/step - loss: 0.6110 - acc: 0.6858 - val_loss: 0.5442 - val_acc: 0.7198\n",
            "\n",
            "Epoch 00022: val_loss improved from 0.54510 to 0.54422, saving model to weights-improvement-22-0.72.hdf5\n",
            "Epoch 23/50\n",
            "380079/380079 [==============================] - 49s 128us/step - loss: 0.6117 - acc: 0.6861 - val_loss: 0.5446 - val_acc: 0.7198\n",
            "\n",
            "Epoch 00023: val_loss did not improve from 0.54422\n",
            "Epoch 24/50\n",
            "380079/380079 [==============================] - 49s 128us/step - loss: 0.6092 - acc: 0.6881 - val_loss: 0.5442 - val_acc: 0.7202\n",
            "\n",
            "Epoch 00024: val_loss improved from 0.54422 to 0.54416, saving model to weights-improvement-24-0.72.hdf5\n",
            "Epoch 25/50\n",
            "380079/380079 [==============================] - 49s 128us/step - loss: 0.6106 - acc: 0.6875 - val_loss: 0.5428 - val_acc: 0.7214\n",
            "\n",
            "Epoch 00025: val_loss improved from 0.54416 to 0.54284, saving model to weights-improvement-25-0.72.hdf5\n",
            "Epoch 26/50\n",
            "380079/380079 [==============================] - 49s 128us/step - loss: 0.6097 - acc: 0.6881 - val_loss: 0.5429 - val_acc: 0.7215\n",
            "\n",
            "Epoch 00026: val_loss did not improve from 0.54284\n",
            "Epoch 27/50\n",
            "380079/380079 [==============================] - 49s 128us/step - loss: 0.6088 - acc: 0.6886 - val_loss: 0.5431 - val_acc: 0.7216\n",
            "\n",
            "Epoch 00027: val_loss did not improve from 0.54284\n",
            "Epoch 28/50\n",
            "380079/380079 [==============================] - 49s 128us/step - loss: 0.6086 - acc: 0.6884 - val_loss: 0.5424 - val_acc: 0.7222\n",
            "\n",
            "Epoch 00028: val_loss improved from 0.54284 to 0.54244, saving model to weights-improvement-28-0.72.hdf5\n",
            "Epoch 29/50\n",
            "380079/380079 [==============================] - 48s 127us/step - loss: 0.6076 - acc: 0.6894 - val_loss: 0.5420 - val_acc: 0.7226\n",
            "\n",
            "Epoch 00029: val_loss improved from 0.54244 to 0.54202, saving model to weights-improvement-29-0.72.hdf5\n",
            "Epoch 30/50\n",
            "380079/380079 [==============================] - 49s 128us/step - loss: 0.6067 - acc: 0.6900 - val_loss: 0.5421 - val_acc: 0.7226\n",
            "\n",
            "Epoch 00030: val_loss did not improve from 0.54202\n",
            "Epoch 31/50\n",
            "380079/380079 [==============================] - 49s 128us/step - loss: 0.6075 - acc: 0.6901 - val_loss: 0.5419 - val_acc: 0.7229\n",
            "\n",
            "Epoch 00031: val_loss improved from 0.54202 to 0.54187, saving model to weights-improvement-31-0.72.hdf5\n",
            "Epoch 32/50\n",
            "380079/380079 [==============================] - 49s 128us/step - loss: 0.6068 - acc: 0.6901 - val_loss: 0.5417 - val_acc: 0.7232\n",
            "\n",
            "Epoch 00032: val_loss improved from 0.54187 to 0.54168, saving model to weights-improvement-32-0.72.hdf5\n",
            "Epoch 33/50\n",
            "380079/380079 [==============================] - 48s 127us/step - loss: 0.6069 - acc: 0.6905 - val_loss: 0.5415 - val_acc: 0.7234\n",
            "\n",
            "Epoch 00033: val_loss improved from 0.54168 to 0.54154, saving model to weights-improvement-33-0.72.hdf5\n",
            "Epoch 34/50\n",
            "380079/380079 [==============================] - 49s 128us/step - loss: 0.6069 - acc: 0.6911 - val_loss: 0.5408 - val_acc: 0.7241\n",
            "\n",
            "Epoch 00034: val_loss improved from 0.54154 to 0.54081, saving model to weights-improvement-34-0.72.hdf5\n",
            "Epoch 35/50\n",
            "380079/380079 [==============================] - 49s 128us/step - loss: 0.6069 - acc: 0.6906 - val_loss: 0.5409 - val_acc: 0.7240\n",
            "\n",
            "Epoch 00035: val_loss did not improve from 0.54081\n",
            "Epoch 36/50\n",
            "380079/380079 [==============================] - 49s 128us/step - loss: 0.6059 - acc: 0.6915 - val_loss: 0.5405 - val_acc: 0.7244\n",
            "\n",
            "Epoch 00036: val_loss improved from 0.54081 to 0.54055, saving model to weights-improvement-36-0.72.hdf5\n",
            "Epoch 37/50\n",
            "380079/380079 [==============================] - 49s 128us/step - loss: 0.6060 - acc: 0.6907 - val_loss: 0.5408 - val_acc: 0.7245\n",
            "\n",
            "Epoch 00037: val_loss did not improve from 0.54055\n",
            "Epoch 38/50\n",
            "380079/380079 [==============================] - 49s 128us/step - loss: 0.6039 - acc: 0.6917 - val_loss: 0.5401 - val_acc: 0.7250\n",
            "\n",
            "Epoch 00038: val_loss improved from 0.54055 to 0.54009, saving model to weights-improvement-38-0.72.hdf5\n",
            "Epoch 39/50\n",
            "380079/380079 [==============================] - 48s 127us/step - loss: 0.6039 - acc: 0.6925 - val_loss: 0.5400 - val_acc: 0.7252\n",
            "\n",
            "Epoch 00039: val_loss improved from 0.54009 to 0.53995, saving model to weights-improvement-39-0.73.hdf5\n",
            "Epoch 40/50\n",
            "380079/380079 [==============================] - 49s 128us/step - loss: 0.6045 - acc: 0.6918 - val_loss: 0.5396 - val_acc: 0.7257\n",
            "\n",
            "Epoch 00040: val_loss improved from 0.53995 to 0.53962, saving model to weights-improvement-40-0.73.hdf5\n",
            "Epoch 41/50\n",
            "380079/380079 [==============================] - 49s 128us/step - loss: 0.6041 - acc: 0.6918 - val_loss: 0.5396 - val_acc: 0.7256\n",
            "\n",
            "Epoch 00041: val_loss did not improve from 0.53962\n",
            "Epoch 42/50\n",
            "380079/380079 [==============================] - 49s 128us/step - loss: 0.6038 - acc: 0.6918 - val_loss: 0.5393 - val_acc: 0.7260\n",
            "\n",
            "Epoch 00042: val_loss improved from 0.53962 to 0.53927, saving model to weights-improvement-42-0.73.hdf5\n",
            "Epoch 43/50\n",
            "380079/380079 [==============================] - 49s 128us/step - loss: 0.6035 - acc: 0.6927 - val_loss: 0.5393 - val_acc: 0.7260\n",
            "\n",
            "Epoch 00043: val_loss improved from 0.53927 to 0.53926, saving model to weights-improvement-43-0.73.hdf5\n",
            "Epoch 44/50\n",
            "380079/380079 [==============================] - 49s 128us/step - loss: 0.6043 - acc: 0.6920 - val_loss: 0.5394 - val_acc: 0.7260\n",
            "\n",
            "Epoch 00044: val_loss did not improve from 0.53926\n",
            "Epoch 45/50\n",
            "380079/380079 [==============================] - 49s 128us/step - loss: 0.6051 - acc: 0.6915 - val_loss: 0.5392 - val_acc: 0.7261\n",
            "\n",
            "Epoch 00045: val_loss improved from 0.53926 to 0.53925, saving model to weights-improvement-45-0.73.hdf5\n",
            "Epoch 46/50\n",
            "380079/380079 [==============================] - 49s 128us/step - loss: 0.6036 - acc: 0.6926 - val_loss: 0.5381 - val_acc: 0.7270\n",
            "\n",
            "Epoch 00046: val_loss improved from 0.53925 to 0.53813, saving model to weights-improvement-46-0.73.hdf5\n",
            "Epoch 47/50\n",
            "380079/380079 [==============================] - 49s 128us/step - loss: 0.6034 - acc: 0.6925 - val_loss: 0.5384 - val_acc: 0.7268\n",
            "\n",
            "Epoch 00047: val_loss did not improve from 0.53813\n",
            "Epoch 48/50\n",
            "380079/380079 [==============================] - 49s 128us/step - loss: 0.6026 - acc: 0.6932 - val_loss: 0.5386 - val_acc: 0.7268\n",
            "\n",
            "Epoch 00048: val_loss did not improve from 0.53813\n",
            "Epoch 49/50\n",
            "380079/380079 [==============================] - 49s 128us/step - loss: 0.6030 - acc: 0.6930 - val_loss: 0.5378 - val_acc: 0.7274\n",
            "\n",
            "Epoch 00049: val_loss improved from 0.53813 to 0.53775, saving model to weights-improvement-49-0.73.hdf5\n",
            "Epoch 50/50\n",
            "380079/380079 [==============================] - 49s 128us/step - loss: 0.6025 - acc: 0.6934 - val_loss: 0.5383 - val_acc: 0.7271\n",
            "\n",
            "Epoch 00050: val_loss did not improve from 0.53775\n",
            "Prediction Accuracy: 72.96%\n",
            "dict_keys(['val_loss', 'val_acc', 'loss', 'acc'])\n"
          ],
          "name": "stdout"
        },
        {
          "output_type": "display_data",
          "data": {
            "image/png": "[encoded data removed]",
            "text/plain": [
              "<Figure size 432x288 with 1 Axes>"
            ]
          },
          "metadata": {
            "tags": []
          }
        },
        {
          "output_type": "display_data",
          "data": {
            "image/png": "[encoded data removed]",
            "text/plain": [
              "<Figure size 432x288 with 1 Axes>"
            ]
          },
          "metadata": {
            "tags": []
          }
        },
        {
          "output_type": "display_data",
          "data": {
            "image/png": "[encoded data removed]",
            "text/plain": [
              "<Figure size 432x288 with 1 Axes>"
            ]
          },
          "metadata": {
            "tags": []
          }
        }
      ]
    },
    {
      "cell_type": "code",
      "metadata": {
        "colab_type": "code",
        "id": "R7BDfXHqwRzq",
        "outputId": "124092d6-77bc-429a-a6cb-d1015eced073",
        "colab": {
          "base_uri": "https://localhost:8080/",
          "height": 218
        }
      },
      "source": [
        "y_pred"
      ],
      "execution_count": 21,
      "outputs": [
        {
          "output_type": "execute_result",
          "data": {
            "text/plain": [
              "0         0.0\n",
              "1         1.0\n",
              "2         0.0\n",
              "3         1.0\n",
              "4         0.0\n",
              "         ... \n",
              "118770    0.0\n",
              "118771    0.0\n",
              "118772    0.0\n",
              "118773    0.0\n",
              "118774    0.0\n",
              "Length: 118775, dtype: float64"
            ]
          },
          "metadata": {
            "tags": []
          },
          "execution_count": 21
        }
      ]
    },
    {
      "cell_type": "code",
      "metadata": {
        "colab_type": "code",
        "id": "U6QCI4Fiwhcv",
        "outputId": "c47c9de3-d889-458f-a2b3-33639214abf7",
        "colab": {
          "base_uri": "https://localhost:8080/",
          "height": 218
        }
      },
      "source": [
        "y_test"
      ],
      "execution_count": 22,
      "outputs": [
        {
          "output_type": "execute_result",
          "data": {
            "text/plain": [
              "0         0\n",
              "1         1\n",
              "2         0\n",
              "3         1\n",
              "4         0\n",
              "         ..\n",
              "118770    0\n",
              "118771    1\n",
              "118772    0\n",
              "118773    0\n",
              "118774    0\n",
              "Name: PRECIP, Length: 118775, dtype: int64"
            ]
          },
          "metadata": {
            "tags": []
          },
          "execution_count": 22
        }
      ]
    },
    {
      "cell_type": "code",
      "metadata": {
        "id": "XP0xh8Z0gJp_",
        "colab_type": "code",
        "colab": {
          "base_uri": "https://localhost:8080/",
          "height": 34
        },
        "outputId": "cdaadfe6-dea2-4a19-9b4a-c5e371443652"
      },
      "source": [
        "accuracy"
      ],
      "execution_count": 28,
      "outputs": [
        {
          "output_type": "execute_result",
          "data": {
            "text/plain": [
              "0.7539717954114923"
            ]
          },
          "metadata": {
            "tags": []
          },
          "execution_count": 28
        }
      ]
    },
    {
      "cell_type": "code",
      "metadata": {
        "colab_type": "code",
        "id": "wucpzyU-hwje",
        "outputId": "f82d23af-dd84-4186-e98c-38f4bfa9c586",
        "colab": {
          "base_uri": "https://localhost:8080/",
          "height": 255
        }
      },
      "source": [
        "!ln -sf /opt/bin/nvidia-smi /usr/bin/nvidia-smi\n",
        "!pip install gputil\n",
        "!pip install psutil\n",
        "!pip install humanize\n",
        "import psutil\n",
        "import humanize\n",
        "import os\n",
        "import GPUtil as GPU\n",
        "GPUs = GPU.getGPUs()\n",
        "# XXX: only one GPU on Colab and isn’t guaranteed\n",
        "gpu = GPUs[0]\n",
        "def printm():\n",
        " process = psutil.Process(os.getpid())\n",
        " print(\"Gen RAM Free: \" + humanize.naturalsize( psutil.virtual_memory().available ), \" | Proc size: \" + humanize.naturalsize( process.memory_info().rss))\n",
        " print(\"GPU RAM Free: {0:.0f}MB | Used: {1:.0f}MB | Util {2:3.0f}% | Total {3:.0f}MB\".format(gpu.memoryFree, gpu.memoryUsed, gpu.memoryUtil*100, gpu.memoryTotal))\n",
        "printm() "
      ],
      "execution_count": 29,
      "outputs": [
        {
          "output_type": "stream",
          "text": [
            "Collecting gputil\n",
            "  Downloading https://files.pythonhosted.org/packages/ed/0e/5c61eedde9f6c87713e89d794f01e378cfd9565847d4576fa627d758c554/GPUtil-1.4.0.tar.gz\n",
            "Building wheels for collected packages: gputil\n",
            "  Building wheel for gputil (setup.py) ... \u001b[?25l\u001b[?25hdone\n",
            "  Created wheel for gputil: filename=GPUtil-1.4.0-cp36-none-any.whl size=7413 sha256=2a93f752dd8ef2225e4534cbf6bcaae37665a96692c9df8b14c3e945fe819410\n",
            "  Stored in directory: /root/.cache/pip/wheels/3d/77/07/80562de4bb0786e5ea186911a2c831fdd0018bda69beab71fd\n",
            "Successfully built gputil\n",
            "Installing collected packages: gputil\n",
            "Successfully installed gputil-1.4.0\n",
            "Requirement already satisfied: psutil in /usr/local/lib/python3.6/dist-packages (5.4.8)\n",
            "Requirement already satisfied: humanize in /usr/local/lib/python3.6/dist-packages (0.5.1)\n",
            "Gen RAM Free: 11.8 GB  | Proc size: 2.9 GB\n",
            "GPU RAM Free: 4024MB | Used: 3587MB | Util  47% | Total 7611MB\n"
          ],
          "name": "stdout"
        }
      ]
    },
    {
      "cell_type": "code",
      "metadata": {
        "id": "nKuy7kCwe4g0",
        "colab_type": "code",
        "colab": {
          "base_uri": "https://localhost:8080/",
          "height": 34
        },
        "outputId": "899a380f-0ef9-43f3-9d9d-ebda6f952a45"
      },
      "source": [
        "gpu"
      ],
      "execution_count": 30,
      "outputs": [
        {
          "output_type": "execute_result",
          "data": {
            "text/plain": [
              "<GPUtil.GPUtil.GPU at 0x7fdb7291c320>"
            ]
          },
          "metadata": {
            "tags": []
          },
          "execution_count": 30
        }
      ]
    }
  ]
}