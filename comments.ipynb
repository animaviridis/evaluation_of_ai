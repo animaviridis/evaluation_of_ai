{
 "cells": [
  {
   "cell_type": "code",
   "execution_count": 1,
   "metadata": {},
   "outputs": [],
   "source": [
    "import matplotlib.pyplot as plt\n",
    "\n",
    "import nltk\n",
    "from nltk.tokenize import word_tokenize, sent_tokenize\n",
    "from nltk.probability import FreqDist\n",
    "from nltk.corpus import stopwords\n",
    "from nltk.stem import PorterStemmer\n"
   ]
  },
  {
   "cell_type": "code",
   "execution_count": 2,
   "metadata": {},
   "outputs": [],
   "source": [
    "text = \"cluster the clustering clusters cluster useful search study research clustering useful like liked\""
   ]
  },
  {
   "cell_type": "code",
   "execution_count": 3,
   "metadata": {},
   "outputs": [
    {
     "name": "stdout",
     "output_type": "stream",
     "text": [
      "['cluster', 'the', 'clustering', 'clusters', 'cluster', 'useful', 'search', 'study', 'research', 'clustering', 'useful', 'like', 'liked']\n"
     ]
    }
   ],
   "source": [
    "tokenized_word=word_tokenize(text)\n",
    "print(tokenized_word)"
   ]
  },
  {
   "cell_type": "code",
   "execution_count": 4,
   "metadata": {},
   "outputs": [
    {
     "name": "stdout",
     "output_type": "stream",
     "text": [
      "<FreqDist with 10 samples and 13 outcomes>\n"
     ]
    }
   ],
   "source": [
    "fdist = FreqDist(tokenized_word)\n",
    "print(fdist)"
   ]
  },
  {
   "cell_type": "code",
   "execution_count": 5,
   "metadata": {},
   "outputs": [
    {
     "data": {
      "image/png": "[encoded data removed]",
      "text/plain": [
       "<Figure size 432x288 with 1 Axes>"
      ]
     },
     "metadata": {
      "needs_background": "light"
     },
     "output_type": "display_data"
    }
   ],
   "source": [
    "fdist.plot(30,cumulative=False)\n",
    "plt.show()"
   ]
  },
  {
   "cell_type": "code",
   "execution_count": 6,
   "metadata": {},
   "outputs": [
    {
     "name": "stdout",
     "output_type": "stream",
     "text": [
      "{'nor', \"you've\", 'not', \"wasn't\", 'weren', 'by', 'the', \"didn't\", 'off', 'should', 'once', \"mightn't\", 'all', 'needn', 'is', 's', 'with', \"she's\", 'll', 'am', 'their', 'if', 'own', 'd', 'again', 'who', 'both', 'its', \"isn't\", 'up', 'your', 'to', 'there', 'on', 'mightn', 'most', 'my', 'our', 'which', 'o', 'while', 'now', 'how', 'can', 'm', 'what', 'as', 'couldn', 'for', 'ma', 'yourselves', 'mustn', 'haven', 'whom', 'just', \"haven't\", 'in', 'after', 'do', 'before', 'were', 'y', 'won', 'these', 'until', \"hadn't\", 'then', \"it's\", 'himself', 'has', 'a', 'between', 'some', 'other', \"wouldn't\", 'does', 'here', \"won't\", 'this', \"should've\", 'they', 'hasn', 've', 'isn', \"doesn't\", \"don't\", 'been', 'yourself', \"you'll\", 'she', 'under', 'aren', 'at', 'below', 'didn', 'we', 'those', 'of', 'out', \"weren't\", 'yours', \"shouldn't\", 'more', \"needn't\", 'few', 'or', 'than', 'too', 'him', 'was', 'only', 'very', \"that'll\", 'through', 'myself', 're', 'herself', 'when', 'itself', 'because', 'same', 'shan', 'and', 'further', 'so', 'wasn', 'over', 'he', 'theirs', 'his', 'into', 'about', 'hers', 'having', 'where', 'be', \"hasn't\", 'her', 'will', 'no', \"aren't\", 'have', 'me', 'ours', 'themselves', 'why', 'you', 'down', 'above', 'an', \"you're\", 'are', 'against', 'each', 'ain', 'it', 'them', 'any', 'but', 'ourselves', \"you'd\", 'had', 'doesn', 'being', 'don', 'from', \"mustn't\", \"shan't\", 'such', 'hadn', 'doing', 'i', \"couldn't\", 'wouldn', 'that', 'during', 'did', 't', 'shouldn'}\n"
     ]
    }
   ],
   "source": [
    "stop_words=set(stopwords.words(\"english\"))\n",
    "print(stop_words)"
   ]
  },
  {
   "cell_type": "code",
   "execution_count": 7,
   "metadata": {},
   "outputs": [
    {
     "name": "stdout",
     "output_type": "stream",
     "text": [
      "Filterd Sentence: ['cluster', 'clustering', 'clusters', 'cluster', 'useful', 'search', 'study', 'research', 'clustering', 'useful', 'like', 'liked']\n"
     ]
    }
   ],
   "source": [
    "filtered_sent=[]\n",
    "for w in tokenized_word:\n",
    "    if w not in stop_words:\n",
    "        filtered_sent.append(w)\n",
    "print(\"Filterd Sentence:\",filtered_sent)"
   ]
  },
  {
   "cell_type": "code",
   "execution_count": 8,
   "metadata": {},
   "outputs": [
    {
     "name": "stdout",
     "output_type": "stream",
     "text": [
      "Filtered Sentence: ['cluster', 'clustering', 'clusters', 'cluster', 'useful', 'search', 'study', 'research', 'clustering', 'useful', 'like', 'liked']\n",
      "Stemmed Sentence: ['cluster', 'cluster', 'cluster', 'cluster', 'use', 'search', 'studi', 'research', 'cluster', 'use', 'like', 'like']\n"
     ]
    }
   ],
   "source": [
    "ps = PorterStemmer()\n",
    "\n",
    "stemmed_words=[]\n",
    "for w in filtered_sent:\n",
    "    stemmed_words.append(ps.stem(w))\n",
    "\n",
    "print(\"Filtered Sentence:\",filtered_sent)\n",
    "print(\"Stemmed Sentence:\",stemmed_words)"
   ]
  },
  {
   "cell_type": "code",
   "execution_count": 11,
   "metadata": {},
   "outputs": [
    {
     "data": {
      "image/png": "[encoded data removed]",
      "text/plain": [
       "<Figure size 432x288 with 1 Axes>"
      ]
     },
     "metadata": {
      "needs_background": "light"
     },
     "output_type": "display_data"
    }
   ],
   "source": [
    "fdist_stemmed = FreqDist(stemmed_words)\n",
    "fdist_stemmed.plot(30,cumulative=False)\n",
    "plt.show()"
   ]
  },
  {
   "cell_type": "code",
   "execution_count": null,
   "metadata": {},
   "outputs": [],
   "source": []
  }
 ],
 "metadata": {
  "kernelspec": {
   "display_name": "Python 3",
   "language": "python",
   "name": "python3"
  },
  "language_info": {
   "codemirror_mode": {
    "name": "ipython",
    "version": 3
   },
   "file_extension": ".py",
   "mimetype": "text/x-python",
   "name": "python",
   "nbconvert_exporter": "python",
   "pygments_lexer": "ipython3",
   "version": "3.7.4"
  }
 },
 "nbformat": 4,
 "nbformat_minor": 1
}
